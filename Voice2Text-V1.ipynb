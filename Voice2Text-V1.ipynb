{
 "cells": [
  {
   "cell_type": "code",
   "execution_count": 1,
   "metadata": {},
   "outputs": [
    {
     "name": "stderr",
     "output_type": "stream",
     "text": [
      "Using TensorFlow backend.\n"
     ]
    }
   ],
   "source": [
    "import os\n",
    "from pathlib import Path\n",
    "import IPython.display as ipd\n",
    "\n",
    "import numpy as np # linear algebra\n",
    "import pandas as pd # data processing, CSV file I/O (e.g. pd.read_csv)\n",
    "import matplotlib.pyplot as plt\n",
    "from scipy import signal\n",
    "from scipy.io import wavfile\n",
    "%matplotlib inline\n",
    "\n",
    "from tqdm import tqdm\n",
    "from sklearn.preprocessing import LabelEncoder\n",
    "from keras.utils import np_utils\n",
    "\n",
    "#from subprocess import check_output\n",
    "#print(check_output([\"dir\", \"../input\"]).decode(\"utf8\"))"
   ]
  },
  {
   "cell_type": "markdown",
   "metadata": {},
   "source": [
    "# View the Data"
   ]
  },
  {
   "cell_type": "code",
   "execution_count": 2,
   "metadata": {},
   "outputs": [
    {
     "name": "stdout",
     "output_type": "stream",
     "text": [
      "['_background_noise_', 'bed', 'bird', 'cat', 'dog', 'down', 'eight', 'five', 'four', 'go', 'happy', 'house', 'left', 'marvin', 'nine', 'no', 'off', 'on', 'one', 'right', 'seven', 'sheila', 'six', 'stop', 'three', 'tree', 'two', 'up', 'wow', 'yes', 'zero']\n"
     ]
    }
   ],
   "source": [
    "folders = os.listdir(\"D:/ML/Voice2Text/Kaggle/Data/train/audio/\")\n",
    "print(folders)"
   ]
  },
  {
   "cell_type": "code",
   "execution_count": 3,
   "metadata": {},
   "outputs": [
    {
     "name": "stdout",
     "output_type": "stream",
     "text": [
      "Number of labels: 30\n"
     ]
    }
   ],
   "source": [
    "train_path = \"D:/ML/Voice2Text/Kaggle/Data/train/audio/\"\n",
    "train_labels = os.listdir(train_path)\n",
    "train_labels.remove('_background_noise_') #removes item from list\n",
    "print('Number of labels:', len(train_labels))\n",
    "\n",
    "\n"
   ]
  },
  {
   "cell_type": "code",
   "execution_count": 4,
   "metadata": {},
   "outputs": [
    {
     "name": "stdout",
     "output_type": "stream",
     "text": [
      "['bed', 'bird', 'cat', 'dog', 'down', 'eight', 'five', 'four', 'go', 'happy', 'house', 'left', 'marvin', 'nine', 'no', 'off', 'on', 'one', 'right', 'seven', 'sheila', 'six', 'stop', 'three', 'tree', 'two', 'up', 'wow', 'yes', 'zero']\n"
     ]
    }
   ],
   "source": [
    "print(train_labels)"
   ]
  },
  {
   "cell_type": "code",
   "execution_count": 5,
   "metadata": {},
   "outputs": [],
   "source": [
    "train_file_labels = dict()\n",
    "for label in train_labels:\n",
    "    files = os.listdir(train_path + '/' + label)\n",
    "    for f in files:\n",
    "        train_file_labels[label + '/' + f] = label"
   ]
  },
  {
   "cell_type": "code",
   "execution_count": 6,
   "metadata": {},
   "outputs": [],
   "source": [
    "sample_rate, samples = wavfile.read(str(train_path) + '/house/00b01445_nohash_0.wav')\n",
    "frequencies, times, spectrogram = signal.spectrogram(samples, sample_rate)"
   ]
  },
  {
   "cell_type": "code",
   "execution_count": 7,
   "metadata": {},
   "outputs": [
    {
     "data": {
      "image/png": "[encoded data removed]",
      "text/plain": [
       "<Figure size 720x720 with 1 Axes>"
      ]
     },
     "metadata": {
      "needs_background": "light"
     },
     "output_type": "display_data"
    }
   ],
   "source": [
    "fig = plt.figure(figsize = (10,10))\n",
    "ax1 = fig.add_subplot(111)\n",
    "ax1.set_title('Spectrogram')\n",
    "ax1.imshow(spectrogram)\n",
    "fig.savefig('spec.png',bbox_inches=None)"
   ]
  },
  {
   "cell_type": "markdown",
   "metadata": {},
   "source": [
    "# Clean the data "
   ]
  },
  {
   "cell_type": "code",
   "execution_count": 8,
   "metadata": {},
   "outputs": [
    {
     "name": "stderr",
     "output_type": "stream",
     "text": [
      "100%|██████████████████████████████████████████████████████████████████████████████████| 30/30 [04:20<00:00,  8.69s/it]\n"
     ]
    },
    {
     "data": {
      "text/plain": [
       "(array([1.200e+01, 2.000e+01, 1.800e+02, 1.590e+02, 3.760e+02, 6.480e+02,\n",
       "        9.670e+02, 8.000e+02, 1.419e+03, 6.014e+04]),\n",
       " array([0.3715625 , 0.43440625, 0.49725   , 0.56009375, 0.6229375 ,\n",
       "        0.68578125, 0.748625  , 0.81146875, 0.8743125 , 0.93715625,\n",
       "        1.        ]),\n",
       " <a list of 10 Patch objects>)"
      ]
     },
     "execution_count": 8,
     "metadata": {},
     "output_type": "execute_result"
    },
    {
     "data": {
      "image/png": "[encoded data removed]",
      "text/plain": [
       "<Figure size 432x288 with 1 Axes>"
      ]
     },
     "metadata": {
      "needs_background": "light"
     },
     "output_type": "display_data"
    }
   ],
   "source": [
    "recording_len = []\n",
    "for folder in tqdm(train_labels):\n",
    "    cur_path = train_path + folder\n",
    "    for file in os.listdir(cur_path):\n",
    "        sample_rate, samples = wavfile.read(cur_path +'/'+ file)\n",
    "        frequencies, times, spectrogram = signal.spectrogram(samples, sample_rate)\n",
    "        recording_len.append(len(samples)/sample_rate)\n",
    "\n",
    "plt.hist(np.array(recording_len))"
   ]
  },
  {
   "cell_type": "code",
   "execution_count": 9,
   "metadata": {},
   "outputs": [
    {
     "name": "stderr",
     "output_type": "stream",
     "text": [
      "100%|██████████████████████████████████████████████████████████████████████████████████| 30/30 [00:54<00:00,  1.83s/it]\n"
     ]
    }
   ],
   "source": [
    "spec_data = []\n",
    "name_data = []\n",
    "for folder in tqdm(train_labels):\n",
    "    cur_path = train_path + folder\n",
    "    for file in os.listdir(cur_path):\n",
    "        sample_rate, samples = wavfile.read(cur_path +'/'+ file)\n",
    "        length = len(samples)/sample_rate\n",
    "        if(length == 1):\n",
    "            frequencies, times, spectrogram = signal.spectrogram(samples, sample_rate)\n",
    "            spec_data.append(spectrogram)\n",
    "            name_data.append(folder)\n",
    "        "
   ]
  },
  {
   "cell_type": "code",
   "execution_count": 10,
   "metadata": {},
   "outputs": [
    {
     "name": "stdout",
     "output_type": "stream",
     "text": [
      "Number of data entries is 58252\n",
      "Number of labels is 58252\n"
     ]
    }
   ],
   "source": [
    "print(\"Number of data entries is\", len(spec_data))\n",
    "print(\"Number of labels is\", len(name_data))"
   ]
  },
  {
   "cell_type": "code",
   "execution_count": 11,
   "metadata": {},
   "outputs": [
    {
     "name": "stdout",
     "output_type": "stream",
     "text": [
      "['bed', 'bird', 'cat', 'dog', 'down', 'eight', 'five', 'four', 'go', 'happy', 'house', 'left', 'marvin', 'nine', 'no', 'off', 'on', 'one', 'right', 'seven', 'sheila', 'six', 'stop', 'three', 'tree', 'two', 'up', 'wow', 'yes', 'zero']\n"
     ]
    }
   ],
   "source": [
    "le = LabelEncoder()\n",
    "y = le.fit_transform(name_data)\n",
    "classes= list(le.classes_)\n",
    "print(classes)\n",
    "\n",
    "\n",
    "y=np_utils.to_categorical(y, num_classes=len(classes))"
   ]
  },
  {
   "cell_type": "code",
   "execution_count": 12,
   "metadata": {},
   "outputs": [],
   "source": [
    "x = np.array(spec_data)\n",
    "x = x.reshape([-1,129, 71,1])"
   ]
  },
  {
   "cell_type": "code",
   "execution_count": 13,
   "metadata": {},
   "outputs": [
    {
     "name": "stdout",
     "output_type": "stream",
     "text": [
      "y shape is (58252, 30)\n",
      "x shape is (58252, 129, 71, 1)\n"
     ]
    }
   ],
   "source": [
    "print('y shape is',y.shape)\n",
    "print('x shape is',x.shape)"
   ]
  },
  {
   "cell_type": "code",
   "execution_count": 14,
   "metadata": {},
   "outputs": [],
   "source": [
    "from sklearn.model_selection import train_test_split\n",
    "x_tr, x_tes, y_tr, y_tes = train_test_split(x, y,test_size = 0.10,random_state=42,shuffle=True)"
   ]
  },
  {
   "cell_type": "markdown",
   "metadata": {},
   "source": [
    "# Creating a Neural Network"
   ]
  },
  {
   "cell_type": "code",
   "execution_count": 15,
   "metadata": {},
   "outputs": [],
   "source": [
    "from tensorflow.keras.models import load_model\n",
    "from PIL import Image as PImage\n",
    "import keras\n",
    "from keras.models import Sequential, Model\n",
    "from keras.layers import Dense, Dropout, Flatten, Input\n",
    "from keras.layers import Conv2D, MaxPooling2D, UpSampling2D, UpSampling3D, Conv2DTranspose, concatenate\n",
    "from keras.layers.normalization import BatchNormalization\n",
    "from keras.backend.tensorflow_backend import set_session\n",
    "from keras.backend.tensorflow_backend import clear_session\n",
    "from keras.backend.tensorflow_backend import get_session\n",
    "from keras import backend as K\n",
    "import tensorflow\n",
    "\n",
    "from os import listdir\n",
    "import os, os.path"
   ]
  },
  {
   "cell_type": "code",
   "execution_count": 16,
   "metadata": {},
   "outputs": [],
   "source": [
    "def buildModel():\n",
    "    model = Sequential()\n",
    "    model.add(Conv2D(32, kernel_size=(3, 3), activation='relu', padding='same', input_shape=(129, 71,1)))\n",
    "    model.add(Conv2D(32, kernel_size=(3, 3), activation='relu', padding='same'))\n",
    "    model.add(Conv2D(32, kernel_size=(3, 3), activation='relu', padding='same'))\n",
    "    model.add(MaxPooling2D(pool_size=(2, 2)))\n",
    "\n",
    "    model.add(Conv2D(64, kernel_size=(3, 3), activation='relu', padding='same'))\n",
    "    model.add(Conv2D(64, kernel_size=(3, 3), activation='relu', padding='same'))\n",
    "    model.add(Conv2D(64, kernel_size=(3, 3), activation='relu', padding='same'))\n",
    "    model.add(MaxPooling2D(pool_size=(2, 2)))\n",
    "    \n",
    "    model.add(Flatten())\n",
    "\n",
    "    model.add(Dense(500, activation='relu'))\n",
    "    model.add(Dropout(0.5))\n",
    "\n",
    "    model.add(Dense(500, activation='relu'))\n",
    "    model.add(Dropout(0.5))\n",
    "\n",
    "    model.add(Dense(500, activation='relu'))\n",
    "    model.add(Dropout(0.5))\n",
    "    \n",
    "    model.add(Dense(500, activation='relu'))\n",
    "    model.add(Dropout(0.5))\n",
    "\n",
    "    model.add(Dense(500, activation='relu'))\n",
    "    model.add(Dropout(0.5))\n",
    "\n",
    "    model.add(Dense(len(classes), activation='softmax'))\n",
    "   \n",
    "    model.compile(loss='categorical_crossentropy',optimizer='adadelta',metrics=['accuracy'])\n",
    "    model.summary()\n",
    "    return model"
   ]
  },
  {
   "cell_type": "code",
   "execution_count": 17,
   "metadata": {},
   "outputs": [
    {
     "name": "stdout",
     "output_type": "stream",
     "text": [
      "WARNING:tensorflow:From C:\\Users\\cstra\\AppData\\Local\\Continuum\\anaconda3\\lib\\site-packages\\tensorflow_core\\python\\ops\\resource_variable_ops.py:1630: calling BaseResourceVariable.__init__ (from tensorflow.python.ops.resource_variable_ops) with constraint is deprecated and will be removed in a future version.\n",
      "Instructions for updating:\n",
      "If using Keras pass *_constraint arguments to layers.\n",
      "WARNING:tensorflow:From C:\\Users\\cstra\\AppData\\Local\\Continuum\\anaconda3\\lib\\site-packages\\keras\\backend\\tensorflow_backend.py:4070: The name tf.nn.max_pool is deprecated. Please use tf.nn.max_pool2d instead.\n",
      "\n",
      "Model: \"sequential_1\"\n",
      "_________________________________________________________________\n",
      "Layer (type)                 Output Shape              Param #   \n",
      "=================================================================\n",
      "conv2d_1 (Conv2D)            (None, 129, 71, 32)       320       \n",
      "_________________________________________________________________\n",
      "conv2d_2 (Conv2D)            (None, 129, 71, 32)       9248      \n",
      "_________________________________________________________________\n",
      "conv2d_3 (Conv2D)            (None, 129, 71, 32)       9248      \n",
      "_________________________________________________________________\n",
      "max_pooling2d_1 (MaxPooling2 (None, 64, 35, 32)        0         \n",
      "_________________________________________________________________\n",
      "conv2d_4 (Conv2D)            (None, 64, 35, 64)        18496     \n",
      "_________________________________________________________________\n",
      "conv2d_5 (Conv2D)            (None, 64, 35, 64)        36928     \n",
      "_________________________________________________________________\n",
      "conv2d_6 (Conv2D)            (None, 64, 35, 64)        36928     \n",
      "_________________________________________________________________\n",
      "max_pooling2d_2 (MaxPooling2 (None, 32, 17, 64)        0         \n",
      "_________________________________________________________________\n",
      "flatten_1 (Flatten)          (None, 34816)             0         \n",
      "_________________________________________________________________\n",
      "dense_1 (Dense)              (None, 500)               17408500  \n",
      "_________________________________________________________________\n",
      "dropout_1 (Dropout)          (None, 500)               0         \n",
      "_________________________________________________________________\n",
      "dense_2 (Dense)              (None, 500)               250500    \n",
      "_________________________________________________________________\n",
      "dropout_2 (Dropout)          (None, 500)               0         \n",
      "_________________________________________________________________\n",
      "dense_3 (Dense)              (None, 500)               250500    \n",
      "_________________________________________________________________\n",
      "dropout_3 (Dropout)          (None, 500)               0         \n",
      "_________________________________________________________________\n",
      "dense_4 (Dense)              (None, 500)               250500    \n",
      "_________________________________________________________________\n",
      "dropout_4 (Dropout)          (None, 500)               0         \n",
      "_________________________________________________________________\n",
      "dense_5 (Dense)              (None, 500)               250500    \n",
      "_________________________________________________________________\n",
      "dropout_5 (Dropout)          (None, 500)               0         \n",
      "_________________________________________________________________\n",
      "dense_6 (Dense)              (None, 30)                15030     \n",
      "=================================================================\n",
      "Total params: 18,536,698\n",
      "Trainable params: 18,536,698\n",
      "Non-trainable params: 0\n",
      "_________________________________________________________________\n",
      "WARNING:tensorflow:From C:\\Users\\cstra\\AppData\\Local\\Continuum\\anaconda3\\lib\\site-packages\\keras\\backend\\tensorflow_backend.py:422: The name tf.global_variables is deprecated. Please use tf.compat.v1.global_variables instead.\n",
      "\n",
      "Train on 39319 samples, validate on 13107 samples\n",
      "Epoch 1/40\n",
      " - 46s - loss: 9.3228 - accuracy: 0.0386 - val_loss: 3.3858 - val_accuracy: 0.0425\n",
      "Epoch 2/40\n",
      " - 43s - loss: 3.3882 - accuracy: 0.0467 - val_loss: 3.2808 - val_accuracy: 0.0684\n",
      "Epoch 3/40\n",
      " - 43s - loss: 3.2493 - accuracy: 0.0754 - val_loss: 3.0248 - val_accuracy: 0.1024\n",
      "Epoch 4/40\n",
      " - 43s - loss: 2.9494 - accuracy: 0.1210 - val_loss: 2.6154 - val_accuracy: 0.1830\n",
      "Epoch 5/40\n",
      " - 46s - loss: 2.5878 - accuracy: 0.2066 - val_loss: 2.0480 - val_accuracy: 0.3269\n",
      "Epoch 6/40\n",
      " - 45s - loss: 2.0523 - accuracy: 0.3517 - val_loss: 1.5436 - val_accuracy: 0.5091\n",
      "Epoch 7/40\n",
      " - 43s - loss: 1.6082 - accuracy: 0.5034 - val_loss: 1.1075 - val_accuracy: 0.6664\n",
      "Epoch 8/40\n",
      " - 44s - loss: 1.3355 - accuracy: 0.5958 - val_loss: 0.9653 - val_accuracy: 0.7136\n",
      "Epoch 9/40\n",
      " - 43s - loss: 1.1446 - accuracy: 0.6607 - val_loss: 0.8266 - val_accuracy: 0.7556\n",
      "Epoch 10/40\n",
      " - 43s - loss: 1.0049 - accuracy: 0.7063 - val_loss: 0.7516 - val_accuracy: 0.7794\n",
      "Epoch 11/40\n",
      " - 43s - loss: 0.9062 - accuracy: 0.7418 - val_loss: 0.7784 - val_accuracy: 0.7818\n",
      "Epoch 12/40\n",
      " - 43s - loss: 0.8560 - accuracy: 0.7624 - val_loss: 0.7379 - val_accuracy: 0.7961\n",
      "Epoch 13/40\n",
      " - 43s - loss: 0.7854 - accuracy: 0.7846 - val_loss: 0.7898 - val_accuracy: 0.7917\n",
      "Epoch 14/40\n",
      " - 43s - loss: 0.7437 - accuracy: 0.8023 - val_loss: 0.7212 - val_accuracy: 0.8202\n",
      "Epoch 15/40\n",
      " - 43s - loss: 0.7017 - accuracy: 0.8129 - val_loss: 0.7159 - val_accuracy: 0.8295\n",
      "Epoch 16/40\n",
      " - 43s - loss: 0.6742 - accuracy: 0.8246 - val_loss: 0.8120 - val_accuracy: 0.8237\n",
      "Epoch 17/40\n",
      " - 43s - loss: 0.6389 - accuracy: 0.8376 - val_loss: 0.7323 - val_accuracy: 0.8240\n",
      "Epoch 18/40\n",
      " - 43s - loss: 0.6418 - accuracy: 0.8390 - val_loss: 0.7338 - val_accuracy: 0.8254\n",
      "Epoch 19/40\n",
      " - 43s - loss: 0.6203 - accuracy: 0.8453 - val_loss: 0.7747 - val_accuracy: 0.8322\n",
      "Epoch 20/40\n",
      " - 43s - loss: 0.6246 - accuracy: 0.8508 - val_loss: 0.7139 - val_accuracy: 0.8293\n",
      "Epoch 21/40\n",
      " - 43s - loss: 0.5745 - accuracy: 0.8605 - val_loss: 0.8000 - val_accuracy: 0.8225\n",
      "Epoch 22/40\n",
      " - 43s - loss: 0.5882 - accuracy: 0.8616 - val_loss: 0.7027 - val_accuracy: 0.8293\n",
      "Epoch 23/40\n",
      " - 43s - loss: 0.5967 - accuracy: 0.8616 - val_loss: 0.7142 - val_accuracy: 0.8412\n",
      "Epoch 24/40\n",
      " - 43s - loss: 0.5654 - accuracy: 0.8676 - val_loss: 0.7767 - val_accuracy: 0.8291\n",
      "Epoch 25/40\n",
      " - 43s - loss: 0.5797 - accuracy: 0.8671 - val_loss: 1.0446 - val_accuracy: 0.8087\n",
      "Epoch 26/40\n",
      " - 43s - loss: 0.5728 - accuracy: 0.8696 - val_loss: 0.7690 - val_accuracy: 0.8316\n",
      "Epoch 27/40\n",
      " - 43s - loss: 0.5781 - accuracy: 0.8728 - val_loss: 0.8541 - val_accuracy: 0.8320\n",
      "Epoch 28/40\n",
      " - 43s - loss: 0.5897 - accuracy: 0.8695 - val_loss: 0.7471 - val_accuracy: 0.8183\n",
      "Epoch 29/40\n",
      " - 43s - loss: 0.5505 - accuracy: 0.8761 - val_loss: 0.7663 - val_accuracy: 0.8354\n",
      "Epoch 30/40\n",
      " - 43s - loss: 0.5548 - accuracy: 0.8755 - val_loss: 0.9357 - val_accuracy: 0.7532\n",
      "Epoch 31/40\n",
      " - 43s - loss: 0.5841 - accuracy: 0.8714 - val_loss: 0.8050 - val_accuracy: 0.8408\n",
      "Epoch 32/40\n",
      " - 43s - loss: 0.5845 - accuracy: 0.8704 - val_loss: 0.8675 - val_accuracy: 0.7917\n",
      "Epoch 33/40\n",
      " - 43s - loss: 0.6123 - accuracy: 0.8749 - val_loss: 0.9105 - val_accuracy: 0.8427\n",
      "Epoch 34/40\n",
      " - 43s - loss: 0.6047 - accuracy: 0.8729 - val_loss: 0.7426 - val_accuracy: 0.8323\n",
      "Epoch 35/40\n",
      " - 43s - loss: 0.6133 - accuracy: 0.8723 - val_loss: 0.9964 - val_accuracy: 0.7383\n",
      "Epoch 36/40\n",
      " - 43s - loss: 0.6053 - accuracy: 0.8763 - val_loss: 0.9166 - val_accuracy: 0.8237\n",
      "Epoch 37/40\n",
      " - 43s - loss: 0.5982 - accuracy: 0.8772 - val_loss: 0.7567 - val_accuracy: 0.8383\n",
      "Epoch 38/40\n",
      " - 43s - loss: 0.5999 - accuracy: 0.8746 - val_loss: 0.7386 - val_accuracy: 0.8359\n",
      "Epoch 39/40\n",
      " - 43s - loss: 0.5932 - accuracy: 0.8756 - val_loss: 0.7554 - val_accuracy: 0.8360\n",
      "Epoch 40/40\n",
      " - 43s - loss: 0.5880 - accuracy: 0.8760 - val_loss: 0.8761 - val_accuracy: 0.8519\n"
     ]
    }
   ],
   "source": [
    "K.clear_session()\n",
    "model = buildModel()\n",
    "results = model.fit(x_tr, y_tr, batch_size=32, epochs=40, validation_split=0.25, verbose=2, shuffle=True)"
   ]
  },
  {
   "cell_type": "code",
   "execution_count": 18,
   "metadata": {},
   "outputs": [
    {
     "data": {
      "image/png": "[encoded data removed]",
      "text/plain": [
       "<Figure size 432x288 with 1 Axes>"
      ]
     },
     "metadata": {
      "needs_background": "light"
     },
     "output_type": "display_data"
    }
   ],
   "source": [
    "plt.plot(results.history['loss'], label='train') \n",
    "plt.plot(results.history['val_loss'], label='test') \n",
    "plt.legend() \n",
    "plt.show()"
   ]
  },
  {
   "cell_type": "code",
   "execution_count": 19,
   "metadata": {},
   "outputs": [
    {
     "data": {
      "image/png": "[encoded data removed]",
      "text/plain": [
       "<Figure size 432x288 with 1 Axes>"
      ]
     },
     "metadata": {
      "needs_background": "light"
     },
     "output_type": "display_data"
    }
   ],
   "source": [
    "plt.plot(results.history['accuracy'], label='train') \n",
    "plt.plot(results.history['val_accuracy'], label='test') \n",
    "plt.legend() \n",
    "plt.show()"
   ]
  },
  {
   "cell_type": "code",
   "execution_count": 20,
   "metadata": {},
   "outputs": [],
   "source": [
    "model.save('Voice2Text.h5')"
   ]
  },
  {
   "cell_type": "code",
   "execution_count": 21,
   "metadata": {},
   "outputs": [],
   "source": [
    "def R2_SoftHot(y1, y2):\n",
    "    correct = 0\n",
    "    if(y1.shape[0] == y2.shape[0]):\n",
    "        for size in range(y1.shape[0]):\n",
    "            y11 = np.argmax(y1[size], axis=0)\n",
    "            y22 = np.argmax(y2[size], axis=0)\n",
    "            if(y11 == y22):\n",
    "                correct = correct + 1\n",
    "        result = correct/y1.shape[0]\n",
    "    else:\n",
    "     print(\"Miss matched size\")\n",
    "    return result"
   ]
  },
  {
   "cell_type": "code",
   "execution_count": 22,
   "metadata": {},
   "outputs": [
    {
     "data": {
      "text/plain": [
       "0.8462066598008926"
      ]
     },
     "execution_count": 22,
     "metadata": {},
     "output_type": "execute_result"
    }
   ],
   "source": [
    "R2_SoftHot(y_tes, model.predict(x_tes))"
   ]
  },
  {
   "cell_type": "code",
   "execution_count": null,
   "metadata": {},
   "outputs": [],
   "source": []
  }
 ],
 "metadata": {
  "kernelspec": {
   "display_name": "Python 3",
   "language": "python",
   "name": "python3"
  },
  "language_info": {
   "codemirror_mode": {
    "name": "ipython",
    "version": 3
   },
   "file_extension": ".py",
   "mimetype": "text/x-python",
   "name": "python",
   "nbconvert_exporter": "python",
   "pygments_lexer": "ipython3",
   "version": "3.7.4"
  }
 },
 "nbformat": 4,
 "nbformat_minor": 2
}
