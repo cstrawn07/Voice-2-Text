{
 "cells": [
  {
   "cell_type": "code",
   "execution_count": 1,
   "metadata": {},
   "outputs": [
    {
     "name": "stderr",
     "output_type": "stream",
     "text": [
      "Using TensorFlow backend.\n"
     ]
    }
   ],
   "source": [
    "import os\n",
    "from pathlib import Path\n",
    "import IPython.display as ipd\n",
    "\n",
    "import numpy as np # linear algebra\n",
    "import pandas as pd # data processing, CSV file I/O (e.g. pd.read_csv)\n",
    "import matplotlib.pyplot as plt\n",
    "from scipy import signal\n",
    "from scipy.io import wavfile\n",
    "%matplotlib inline\n",
    "\n",
    "from tqdm import tqdm\n",
    "from sklearn.preprocessing import LabelEncoder\n",
    "from keras.utils import np_utils\n",
    "\n",
    "#from subprocess import check_output\n",
    "#print(check_output([\"dir\", \"../input\"]).decode(\"utf8\"))"
   ]
  },
  {
   "cell_type": "markdown",
   "metadata": {},
   "source": [
    "# View the Data"
   ]
  },
  {
   "cell_type": "code",
   "execution_count": 2,
   "metadata": {},
   "outputs": [
    {
     "name": "stdout",
     "output_type": "stream",
     "text": [
      "['_background_noise_', 'bed', 'bird', 'cat', 'dog', 'down', 'eight', 'five', 'four', 'go', 'happy', 'house', 'left', 'marvin', 'nine', 'no', 'off', 'on', 'one', 'right', 'seven', 'sheila', 'six', 'stop', 'three', 'tree', 'two', 'up', 'wow', 'yes', 'zero']\n"
     ]
    }
   ],
   "source": [
    "folders = os.listdir(\"D:/ML/Voice2Text/Kaggle/Data/train/audio/\")\n",
    "print(folders)"
   ]
  },
  {
   "cell_type": "code",
   "execution_count": 3,
   "metadata": {},
   "outputs": [
    {
     "name": "stdout",
     "output_type": "stream",
     "text": [
      "['bed', 'bird', 'cat', 'dog', 'down', 'eight', 'five', 'four', 'go', 'happy', 'house', 'left', 'marvin', 'nine', 'no', 'off', 'on', 'one', 'right', 'seven', 'sheila', 'six', 'stop', 'three', 'tree', 'two', 'up', 'wow', 'yes', 'zero']\n"
     ]
    }
   ],
   "source": [
    "train_path = \"D:/ML/Voice2Text/Kaggle/Data/train/audio/\"\n",
    "train_labels = os.listdir(train_path)\n",
    "train_labels.remove('_background_noise_') #removes item from list\n",
    "print(train_labels)\n",
    "\n"
   ]
  },
  {
   "cell_type": "code",
   "execution_count": 4,
   "metadata": {},
   "outputs": [
    {
     "data": {
      "image/png": "[encoded data removed]",
      "text/plain": [
       "<Figure size 720x720 with 1 Axes>"
      ]
     },
     "metadata": {
      "needs_background": "light"
     },
     "output_type": "display_data"
    }
   ],
   "source": [
    "sample_rate, samples = wavfile.read(str(train_path) + '/house/00b01445_nohash_0.wav')\n",
    "frequencies, times, spectrogram = signal.spectrogram(samples, sample_rate)\n",
    "\n",
    "fig = plt.figure(figsize = (10,10))\n",
    "ax1 = fig.add_subplot(111)\n",
    "ax1.set_title('Spectrogram')\n",
    "ax1.imshow(spectrogram)\n",
    "fig.savefig('spec.png',bbox_inches=None)"
   ]
  },
  {
   "cell_type": "markdown",
   "metadata": {},
   "source": [
    "# Clean the data "
   ]
  },
  {
   "cell_type": "code",
   "execution_count": 5,
   "metadata": {},
   "outputs": [
    {
     "name": "stderr",
     "output_type": "stream",
     "text": [
      "100%|██████████████████████████████████████████████████████████████████████████████████| 30/30 [00:28<00:00,  1.06it/s]\n"
     ]
    },
    {
     "data": {
      "text/plain": [
       "(array([1.200e+01, 2.000e+01, 1.800e+02, 1.590e+02, 3.760e+02, 6.480e+02,\n",
       "        9.670e+02, 8.000e+02, 1.419e+03, 6.014e+04]),\n",
       " array([0.3715625 , 0.43440625, 0.49725   , 0.56009375, 0.6229375 ,\n",
       "        0.68578125, 0.748625  , 0.81146875, 0.8743125 , 0.93715625,\n",
       "        1.        ]),\n",
       " <a list of 10 Patch objects>)"
      ]
     },
     "execution_count": 5,
     "metadata": {},
     "output_type": "execute_result"
    },
    {
     "data": {
      "image/png": "[encoded data removed]",
      "text/plain": [
       "<Figure size 432x288 with 1 Axes>"
      ]
     },
     "metadata": {
      "needs_background": "light"
     },
     "output_type": "display_data"
    }
   ],
   "source": [
    "recording_len = []\n",
    "for folder in tqdm(train_labels):\n",
    "    cur_path = train_path + folder\n",
    "    for file in os.listdir(cur_path):\n",
    "        sample_rate, samples = wavfile.read(cur_path +'/'+ file)\n",
    "        frequencies, times, spectrogram = signal.spectrogram(samples, sample_rate)\n",
    "        recording_len.append(len(samples)/sample_rate)\n",
    "\n",
    "plt.hist(np.array(recording_len))"
   ]
  },
  {
   "cell_type": "code",
   "execution_count": 6,
   "metadata": {},
   "outputs": [
    {
     "name": "stderr",
     "output_type": "stream",
     "text": [
      "100%|██████████████████████████████████████████████████████████████████████████████████| 30/30 [00:54<00:00,  1.81s/it]\n"
     ]
    }
   ],
   "source": [
    "spec_data = []\n",
    "name_data = []\n",
    "for folder in tqdm(train_labels):\n",
    "    cur_path = train_path + folder\n",
    "    for file in os.listdir(cur_path):\n",
    "        sample_rate, samples = wavfile.read(cur_path +'/'+ file)\n",
    "        length = len(samples)/sample_rate\n",
    "        if(length == 1):\n",
    "            frequencies, times, spectrogram = signal.spectrogram(samples, sample_rate)\n",
    "            spec_data.append(spectrogram)\n",
    "            name_data.append(folder)\n",
    "        "
   ]
  },
  {
   "cell_type": "code",
   "execution_count": 7,
   "metadata": {},
   "outputs": [
    {
     "name": "stdout",
     "output_type": "stream",
     "text": [
      "Number of data entries is 58252\n",
      "Number of labels is 58252\n"
     ]
    }
   ],
   "source": [
    "print(\"Number of data entries is\", len(spec_data))\n",
    "print(\"Number of labels is\", len(name_data))"
   ]
  },
  {
   "cell_type": "code",
   "execution_count": 8,
   "metadata": {},
   "outputs": [
    {
     "name": "stdout",
     "output_type": "stream",
     "text": [
      "['bed', 'bird', 'cat', 'dog', 'down', 'eight', 'five', 'four', 'go', 'happy', 'house', 'left', 'marvin', 'nine', 'no', 'off', 'on', 'one', 'right', 'seven', 'sheila', 'six', 'stop', 'three', 'tree', 'two', 'up', 'wow', 'yes', 'zero']\n"
     ]
    }
   ],
   "source": [
    "le = LabelEncoder()\n",
    "y = le.fit_transform(name_data)\n",
    "classes= list(le.classes_)\n",
    "print(classes)\n",
    "\n",
    "\n",
    "y=np_utils.to_categorical(y, num_classes=len(classes))"
   ]
  },
  {
   "cell_type": "code",
   "execution_count": 9,
   "metadata": {},
   "outputs": [
    {
     "name": "stdout",
     "output_type": "stream",
     "text": [
      "y shape is (58252, 30)\n",
      "x shape is (58252, 129, 71, 1)\n"
     ]
    }
   ],
   "source": [
    "x = np.array(spec_data)\n",
    "x = x.reshape([-1,129, 71,1])\n",
    "\n",
    "print('y shape is',y.shape)\n",
    "print('x shape is',x.shape)"
   ]
  },
  {
   "cell_type": "code",
   "execution_count": 10,
   "metadata": {},
   "outputs": [],
   "source": [
    "from sklearn.model_selection import train_test_split\n",
    "x_tr, x_tes, y_tr, y_tes = train_test_split(x, y,test_size = 0.10,random_state=42,shuffle=True)"
   ]
  },
  {
   "cell_type": "markdown",
   "metadata": {},
   "source": [
    "# Creating a Neural Network"
   ]
  },
  {
   "cell_type": "code",
   "execution_count": 14,
   "metadata": {},
   "outputs": [],
   "source": [
    "from tensorflow.keras.models import load_model\n",
    "from PIL import Image as PImage\n",
    "import keras\n",
    "from keras.models import Sequential, Model\n",
    "from keras.layers import Dense, Dropout, Flatten, Input\n",
    "from keras.layers import Conv2D, MaxPooling2D \n",
    "from keras import backend as K\n",
    "import tensorflow\n",
    "\n",
    "from os import listdir\n",
    "import os, os.path"
   ]
  },
  {
   "cell_type": "code",
   "execution_count": 19,
   "metadata": {},
   "outputs": [],
   "source": [
    "def buildModel():\n",
    "    model = Sequential()\n",
    "    model.add(Conv2D(32, kernel_size=(3, 3), activation='relu', padding='same', input_shape=(129, 71,1)))\n",
    "    model.add(Conv2D(32, kernel_size=(3, 3), activation='relu', padding='same'))\n",
    "    model.add(Conv2D(32, kernel_size=(3, 3), activation='relu', padding='same'))\n",
    "    model.add(MaxPooling2D(pool_size=(2, 2)))\n",
    "\n",
    "    model.add(Conv2D(64, kernel_size=(3, 3), activation='relu', padding='same'))\n",
    "    model.add(Conv2D(64, kernel_size=(3, 3), activation='relu', padding='same'))\n",
    "    model.add(Conv2D(64, kernel_size=(3, 3), activation='relu', padding='same'))\n",
    "    model.add(MaxPooling2D(pool_size=(2, 2)))\n",
    "    \n",
    "    model.add(Flatten())\n",
    "\n",
    "    model.add(Dense(500, activation='relu'))\n",
    "    model.add(Dropout(0.5))\n",
    "\n",
    "    model.add(Dense(500, activation='relu'))\n",
    "    model.add(Dropout(0.5))\n",
    "\n",
    "    model.add(Dense(500, activation='relu'))\n",
    "    model.add(Dropout(0.5))\n",
    "    \n",
    "\n",
    "    model.add(Dense(len(classes), activation='softmax'))\n",
    "   \n",
    "    model.compile(loss='categorical_crossentropy',optimizer='adadelta',metrics=['accuracy'])\n",
    "    model.summary()\n",
    "    return model"
   ]
  },
  {
   "cell_type": "code",
   "execution_count": 20,
   "metadata": {},
   "outputs": [
    {
     "name": "stdout",
     "output_type": "stream",
     "text": [
      "Model: \"sequential_1\"\n",
      "_________________________________________________________________\n",
      "Layer (type)                 Output Shape              Param #   \n",
      "=================================================================\n",
      "conv2d_1 (Conv2D)            (None, 129, 71, 32)       320       \n",
      "_________________________________________________________________\n",
      "conv2d_2 (Conv2D)            (None, 129, 71, 32)       9248      \n",
      "_________________________________________________________________\n",
      "conv2d_3 (Conv2D)            (None, 129, 71, 32)       9248      \n",
      "_________________________________________________________________\n",
      "max_pooling2d_1 (MaxPooling2 (None, 64, 35, 32)        0         \n",
      "_________________________________________________________________\n",
      "conv2d_4 (Conv2D)            (None, 64, 35, 64)        18496     \n",
      "_________________________________________________________________\n",
      "conv2d_5 (Conv2D)            (None, 64, 35, 64)        36928     \n",
      "_________________________________________________________________\n",
      "conv2d_6 (Conv2D)            (None, 64, 35, 64)        36928     \n",
      "_________________________________________________________________\n",
      "max_pooling2d_2 (MaxPooling2 (None, 32, 17, 64)        0         \n",
      "_________________________________________________________________\n",
      "flatten_1 (Flatten)          (None, 34816)             0         \n",
      "_________________________________________________________________\n",
      "dense_1 (Dense)              (None, 500)               17408500  \n",
      "_________________________________________________________________\n",
      "dropout_1 (Dropout)          (None, 500)               0         \n",
      "_________________________________________________________________\n",
      "dense_2 (Dense)              (None, 500)               250500    \n",
      "_________________________________________________________________\n",
      "dropout_2 (Dropout)          (None, 500)               0         \n",
      "_________________________________________________________________\n",
      "dense_3 (Dense)              (None, 500)               250500    \n",
      "_________________________________________________________________\n",
      "dropout_3 (Dropout)          (None, 500)               0         \n",
      "_________________________________________________________________\n",
      "dense_4 (Dense)              (None, 30)                15030     \n",
      "=================================================================\n",
      "Total params: 18,035,698\n",
      "Trainable params: 18,035,698\n",
      "Non-trainable params: 0\n",
      "_________________________________________________________________\n",
      "Train on 39319 samples, validate on 13107 samples\n",
      "Epoch 1/40\n",
      " - 42s - loss: 10.4806 - accuracy: 0.0380 - val_loss: 3.4477 - val_accuracy: 0.0537\n",
      "Epoch 2/40\n",
      " - 42s - loss: 3.3454 - accuracy: 0.0635 - val_loss: 3.0231 - val_accuracy: 0.1089\n",
      "Epoch 3/40\n",
      " - 42s - loss: 2.8790 - accuracy: 0.1462 - val_loss: 2.4653 - val_accuracy: 0.2486\n",
      "Epoch 4/40\n",
      " - 42s - loss: 2.5133 - accuracy: 0.2412 - val_loss: 2.0275 - val_accuracy: 0.3832\n",
      "Epoch 5/40\n",
      " - 42s - loss: 2.0381 - accuracy: 0.3629 - val_loss: 1.5541 - val_accuracy: 0.5361\n",
      "Epoch 6/40\n",
      " - 42s - loss: 1.6696 - accuracy: 0.4866 - val_loss: 1.1961 - val_accuracy: 0.6494\n",
      "Epoch 7/40\n",
      " - 42s - loss: 1.3401 - accuracy: 0.5957 - val_loss: 1.0228 - val_accuracy: 0.7092\n",
      "Epoch 8/40\n",
      " - 42s - loss: 1.1174 - accuracy: 0.6718 - val_loss: 0.8222 - val_accuracy: 0.7672\n",
      "Epoch 9/40\n",
      " - 42s - loss: 0.9383 - accuracy: 0.7269 - val_loss: 0.7264 - val_accuracy: 0.7895\n",
      "Epoch 10/40\n",
      " - 42s - loss: 0.8253 - accuracy: 0.7670 - val_loss: 0.6826 - val_accuracy: 0.8003\n",
      "Epoch 11/40\n",
      " - 42s - loss: 0.7528 - accuracy: 0.7855 - val_loss: 0.6537 - val_accuracy: 0.8173\n",
      "Epoch 12/40\n",
      " - 42s - loss: 0.6837 - accuracy: 0.8079 - val_loss: 0.6929 - val_accuracy: 0.8115\n",
      "Epoch 13/40\n",
      " - 42s - loss: 0.6479 - accuracy: 0.8192 - val_loss: 0.6440 - val_accuracy: 0.8289\n",
      "Epoch 14/40\n",
      " - 42s - loss: 0.6184 - accuracy: 0.8363 - val_loss: 0.6113 - val_accuracy: 0.8362\n",
      "Epoch 15/40\n",
      " - 42s - loss: 0.5687 - accuracy: 0.8482 - val_loss: 0.6708 - val_accuracy: 0.8223\n",
      "Epoch 16/40\n",
      " - 42s - loss: 0.5413 - accuracy: 0.8531 - val_loss: 0.6131 - val_accuracy: 0.8406\n",
      "Epoch 17/40\n",
      " - 42s - loss: 0.5051 - accuracy: 0.8643 - val_loss: 0.6706 - val_accuracy: 0.8230\n",
      "Epoch 18/40\n",
      " - 42s - loss: 0.4952 - accuracy: 0.8682 - val_loss: 0.6563 - val_accuracy: 0.8260\n",
      "Epoch 19/40\n",
      " - 42s - loss: 0.5181 - accuracy: 0.8775 - val_loss: 0.6938 - val_accuracy: 0.8204\n",
      "Epoch 20/40\n",
      " - 42s - loss: 0.4622 - accuracy: 0.8839 - val_loss: 0.8536 - val_accuracy: 0.8280\n",
      "Epoch 21/40\n",
      " - 42s - loss: 0.4749 - accuracy: 0.8831 - val_loss: 0.6513 - val_accuracy: 0.8430\n",
      "Epoch 22/40\n",
      " - 42s - loss: 0.4358 - accuracy: 0.8928 - val_loss: 0.7828 - val_accuracy: 0.8293\n",
      "Epoch 23/40\n",
      " - 42s - loss: 0.4451 - accuracy: 0.8872 - val_loss: 0.6898 - val_accuracy: 0.8376\n",
      "Epoch 24/40\n",
      " - 42s - loss: 0.4254 - accuracy: 0.8942 - val_loss: 0.6869 - val_accuracy: 0.8328\n",
      "Epoch 25/40\n",
      " - 42s - loss: 0.4096 - accuracy: 0.8984 - val_loss: 0.6748 - val_accuracy: 0.8383\n",
      "Epoch 26/40\n",
      " - 42s - loss: 0.4071 - accuracy: 0.9004 - val_loss: 0.9040 - val_accuracy: 0.8257\n",
      "Epoch 27/40\n",
      " - 42s - loss: 0.4034 - accuracy: 0.9038 - val_loss: 0.6740 - val_accuracy: 0.8453\n",
      "Epoch 28/40\n",
      " - 42s - loss: 0.4138 - accuracy: 0.9041 - val_loss: 0.7800 - val_accuracy: 0.8451\n",
      "Epoch 29/40\n",
      " - 42s - loss: 0.3901 - accuracy: 0.9057 - val_loss: 0.7607 - val_accuracy: 0.8415\n",
      "Epoch 30/40\n",
      " - 42s - loss: 0.4055 - accuracy: 0.9047 - val_loss: 0.7003 - val_accuracy: 0.8309\n",
      "Epoch 31/40\n",
      " - 42s - loss: 0.3897 - accuracy: 0.9062 - val_loss: 0.7406 - val_accuracy: 0.8447\n",
      "Epoch 32/40\n",
      " - 42s - loss: 0.3855 - accuracy: 0.9080 - val_loss: 0.8646 - val_accuracy: 0.8470\n",
      "Epoch 33/40\n",
      " - 42s - loss: 0.3807 - accuracy: 0.9125 - val_loss: 0.8052 - val_accuracy: 0.8425\n",
      "Epoch 34/40\n",
      " - 42s - loss: 0.3681 - accuracy: 0.9113 - val_loss: 0.7510 - val_accuracy: 0.8325\n",
      "Epoch 35/40\n",
      " - 42s - loss: 0.3915 - accuracy: 0.9121 - val_loss: 0.8146 - val_accuracy: 0.8468\n",
      "Epoch 36/40\n",
      " - 42s - loss: 0.3636 - accuracy: 0.9168 - val_loss: 0.9253 - val_accuracy: 0.8518\n",
      "Epoch 37/40\n",
      " - 42s - loss: 0.3797 - accuracy: 0.9131 - val_loss: 0.8303 - val_accuracy: 0.8405\n",
      "Epoch 38/40\n",
      " - 43s - loss: 0.4177 - accuracy: 0.9116 - val_loss: 0.7323 - val_accuracy: 0.8233\n",
      "Epoch 39/40\n",
      " - 42s - loss: 0.3740 - accuracy: 0.9135 - val_loss: 0.7523 - val_accuracy: 0.8136\n",
      "Epoch 40/40\n",
      " - 42s - loss: 0.3873 - accuracy: 0.9135 - val_loss: 0.7594 - val_accuracy: 0.8473\n"
     ]
    }
   ],
   "source": [
    "K.clear_session()\n",
    "model = buildModel()\n",
    "results = model.fit(x_tr, y_tr, batch_size=32, epochs=40, validation_split=0.25, verbose=2, shuffle=True)"
   ]
  },
  {
   "cell_type": "code",
   "execution_count": null,
   "metadata": {},
   "outputs": [],
   "source": [
    "plt.plot(results.history['loss'], label='train') \n",
    "plt.plot(results.history['val_loss'], label='test') \n",
    "plt.legend() \n",
    "plt.show()"
   ]
  },
  {
   "cell_type": "code",
   "execution_count": null,
   "metadata": {},
   "outputs": [],
   "source": [
    "plt.plot(results.history['accuracy'], label='train') \n",
    "plt.plot(results.history['val_accuracy'], label='test') \n",
    "plt.legend() \n",
    "plt.show()"
   ]
  },
  {
   "cell_type": "code",
   "execution_count": 20,
   "metadata": {},
   "outputs": [],
   "source": [
    "model.save('Voice2TextV2.h5')"
   ]
  },
  {
   "cell_type": "code",
   "execution_count": 21,
   "metadata": {},
   "outputs": [],
   "source": [
    "def R2_SoftHot(y1, y2):\n",
    "    correct = 0\n",
    "    if(y1.shape[0] == y2.shape[0]):\n",
    "        for size in range(y1.shape[0]):\n",
    "            y11 = np.argmax(y1[size], axis=0)\n",
    "            y22 = np.argmax(y2[size], axis=0)\n",
    "            if(y11 == y22):\n",
    "                correct = correct + 1\n",
    "        result = correct/y1.shape[0]\n",
    "    else:\n",
    "     print(\"Miss matched size\")\n",
    "    return result"
   ]
  },
  {
   "cell_type": "code",
   "execution_count": 22,
   "metadata": {},
   "outputs": [
    {
     "data": {
      "text/plain": [
       "0.8462066598008926"
      ]
     },
     "execution_count": 22,
     "metadata": {},
     "output_type": "execute_result"
    }
   ],
   "source": [
    "R2_SoftHot(y_tes, model.predict(x_tes))"
   ]
  },
  {
   "cell_type": "code",
   "execution_count": null,
   "metadata": {},
   "outputs": [],
   "source": []
  }
 ],
 "metadata": {
  "kernelspec": {
   "display_name": "Python 3",
   "language": "python",
   "name": "python3"
  },
  "language_info": {
   "codemirror_mode": {
    "name": "ipython",
    "version": 3
   },
   "file_extension": ".py",
   "mimetype": "text/x-python",
   "name": "python",
   "nbconvert_exporter": "python",
   "pygments_lexer": "ipython3",
   "version": "3.7.4"
  }
 },
 "nbformat": 4,
 "nbformat_minor": 2
}
